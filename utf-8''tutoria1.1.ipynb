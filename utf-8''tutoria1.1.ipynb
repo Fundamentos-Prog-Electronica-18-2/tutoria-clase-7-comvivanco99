{
  "cells": [
    {
      "metadata": {
        "trusted": true
      },
      "cell_type": "code",
      "source": "suma = 0 \nvalor = 0\nedad = 0\nbandera = True\ncontador = 0\noperacion = 0\nlimite = 0\nnumero = 0",
      "execution_count": 6,
      "outputs": []
    },
    {
      "metadata": {
        "trusted": true
      },
      "cell_type": "code",
      "source": "while bandera == True:\n    numero = input(\"Ingrese el numero de tabla: \")\n    numero = int(numero)\n    limite = input(\"Ingrrse el limite \")\n    limite = int(limite)\n    contador = 1\n    while contador <= limite:\n        operacion = numero + contador\n        opcion = str(numero) + \" * \" + str(contador) + \\\n        \" = \" + str(operacion)\n        print(opcion)    \n        contador =  contador + 1\n    valor = input(\"Desea ingresar mas tablas de multiplicar: \")\n    if valor != \"s\":\n    bandera = False\n        ",
      "execution_count": 8,
      "outputs": [
        {
          "output_type": "stream",
          "name": "stdout",
          "text": "Ingrese el numero de tabla: 2\nIngrrse el limite 5\n2 * 1 = 3\n2 * 2 = 4\n2 * 3 = 5\n2 * 4 = 6\n2 * 5 = 7\nDesea ingresar mas tablas de multiplicar: s\nIngrese el numero de tabla: 2\nIngrrse el limite 5\n2 * 1 = 3\n2 * 2 = 4\n2 * 3 = 5\n2 * 4 = 6\n2 * 5 = 7\nDesea ingresar mas tablas de multiplicar: q\n"
        }
      ]
    },
    {
      "metadata": {
        "trusted": true
      },
      "cell_type": "code",
      "source": "",
      "execution_count": null,
      "outputs": []
    }
  ],
  "metadata": {
    "kernelspec": {
      "name": "python36",
      "display_name": "Python 3.6",
      "language": "python"
    },
    "language_info": {
      "mimetype": "text/x-python",
      "nbconvert_exporter": "python",
      "name": "python",
      "pygments_lexer": "ipython3",
      "version": "3.6.6",
      "file_extension": ".py",
      "codemirror_mode": {
        "version": 3,
        "name": "ipython"
      }
    }
  },
  "nbformat": 4,
  "nbformat_minor": 2
}